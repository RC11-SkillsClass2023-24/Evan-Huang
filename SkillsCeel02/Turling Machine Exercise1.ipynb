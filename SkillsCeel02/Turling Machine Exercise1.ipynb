{
 "cells": [
  {
   "cell_type": "code",
   "execution_count": 1,
   "id": "a0a0cb01",
   "metadata": {},
   "outputs": [],
   "source": [
    "# • Modify the machine to always halt on the leftmost digit\n",
    "#   (regardless of the number's length).\n",
    "#   Hint: add a state between carry and done."
   ]
  },
  {
   "cell_type": "code",
   "execution_count": null,
   "id": "4973660e",
   "metadata": {},
   "outputs": [],
   "source": [
    "input: '101100'\n",
    "blank: ' '\n",
    "start state: right\n",
    "\n",
    "table:\n",
    "    right:\n",
    "        [1,0]: R\n",
    "        ' '  : {L: carry}\n",
    "\n",
    "    carry:\n",
    "        1      : {write: 0, L}\n",
    "        [0,' ']: {write: 1, L: detect_leftmost}\n",
    "    \n",
    "    detect_leftmost:\n",
    "        ' '    : {R: done}  \n",
    "        1  : {write: 0, L}       \n",
    "        0  : {write: 1, L}\n",
    "    \n",
    "    done:"
   ]
  },
  {
   "cell_type": "code",
   "execution_count": 2,
   "id": "824b5cce",
   "metadata": {},
   "outputs": [],
   "source": [
    "# • Make a machine that adds 2 instead of 1.\n",
    "#   Hint: 2 is '10' in binary, so the last digit is unaffected.\n",
    "#   Alternative hint: chain together two copies of the machine from\n",
    "#   the first exercise (renaming the states of the second copy)."
   ]
  },
  {
   "cell_type": "code",
   "execution_count": null,
   "id": "4ae5d012",
   "metadata": {},
   "outputs": [],
   "source": [
    "input: '101100'\n",
    "blank: ' '\n",
    "start state: right\n",
    "\n",
    "table:\n",
    "    right:\n",
    "        [1,0]: R\n",
    "        ' '  : {L: carry1}\n",
    "    \n",
    "    carry1:\n",
    "        1      : {write: 0, L}\n",
    "        [0,' ']: {write: 1, L: carry2}\n",
    "    \n",
    "    carry2:\n",
    "        1      : {write: 0, L}\n",
    "        [0,' ']: {write: 1, L: leftmost}\n",
    "    \n",
    "    leftmost:\n",
    "        [1,0]: L\n",
    "        ' '  : {R: done}\n",
    "\n",
    "    done:      "
   ]
  },
  {
   "cell_type": "code",
   "execution_count": 3,
   "id": "60a29bef",
   "metadata": {},
   "outputs": [],
   "source": [
    "# • Make a machine to subtract 1.\n",
    "#   To simplify things, assume the input is always greater than 0."
   ]
  },
  {
   "cell_type": "code",
   "execution_count": null,
   "id": "a122dd83",
   "metadata": {},
   "outputs": [],
   "source": [
    "input: '101100'\n",
    "blank: ' '\n",
    "start state: right\n",
    "table:\n",
    "    right:\n",
    "        [1,0]: R\n",
    "        ' '  : {L: subtract}\n",
    "\n",
    "    subtract:\n",
    "        1      : {write: 0, L: done}\n",
    "        0      : {write: 1, L: subtract}\n",
    "    \n",
    "    done:    "
   ]
  }
 ],
 "metadata": {
  "kernelspec": {
   "display_name": "Python 3 (ipykernel)",
   "language": "python",
   "name": "python3"
  },
  "language_info": {
   "codemirror_mode": {
    "name": "ipython",
    "version": 3
   },
   "file_extension": ".py",
   "mimetype": "text/x-python",
   "name": "python",
   "nbconvert_exporter": "python",
   "pygments_lexer": "ipython3",
   "version": "3.8.18"
  }
 },
 "nbformat": 4,
 "nbformat_minor": 5
}
